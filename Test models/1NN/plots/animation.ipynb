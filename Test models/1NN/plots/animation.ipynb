{
 "cells": [
  {
   "cell_type": "code",
   "execution_count": 6,
   "metadata": {},
   "outputs": [
    {
     "name": "stderr",
     "output_type": "stream",
     "text": [
      "/home/oem/Documents/Final year project/.venv/lib/python3.11/site-packages/matplotlib/animation.py:908: UserWarning: Animation was deleted without rendering anything. This is most likely not intended. To prevent deletion, assign the Animation to a variable, e.g. `anim`, that exists until you output the Animation using `plt.show()` or `anim.save()`.\n",
      "  warnings.warn(\n"
     ]
    },
    {
     "data": {
      "image/png": "[encoded data removed]",
      "text/plain": [
       "<Figure size 640x480 with 1 Axes>"
      ]
     },
     "metadata": {},
     "output_type": "display_data"
    }
   ],
   "source": [
    "import matplotlib.pyplot as plt\n",
    "import matplotlib.animation as animation\n",
    "from matplotlib import image as mpimg\n",
    "import glob\n",
    "\n",
    "# List all PNG image files in the current directory\n",
    "image_files = glob.glob('plots/*.png')\n",
    "\n",
    "# Sort the images to ensure the correct order\n",
    "image_files.sort()\n",
    "\n",
    "# Create a figure for the animation\n",
    "fig, ax = plt.subplots()\n",
    "\n",
    "# List to store the images that will be animated\n",
    "imgs = []\n",
    "\n",
    "# Load the images into the list\n",
    "for image_file in image_files:\n",
    "    img = mpimg.imread(image_file)\n",
    "    imgs.append([ax.imshow(img)])  # Add the image to the list as a \"frame\" for the animation\n",
    "\n",
    "# Set up the axis limits and title\n",
    "ax.set_title(\"Animation of Plots\")\n",
    "ax.axis('off')  # Turn off axis for clean image presentation\n",
    "\n",
    "# Create the animation\n",
    "ani = animation.ArtistAnimation(fig, imgs, interval=500, repeat_delay=1000)\n",
    "\n",
    "# Save the animation (optional)\n",
    "#ani.save('plots/plot_animation.mp4', writer='ffmpeg', fps=2)\n",
    "\n",
    "# Show the animation (if needed)\n",
    "plt.show()\n",
    "\n"
   ]
  },
  {
   "cell_type": "code",
   "execution_count": null,
   "metadata": {},
   "outputs": [],
   "source": []
  },
  {
   "cell_type": "code",
   "execution_count": null,
   "metadata": {},
   "outputs": [],
   "source": []
  }
 ],
 "metadata": {
  "kernelspec": {
   "display_name": ".venv",
   "language": "python",
   "name": "python3"
  },
  "language_info": {
   "codemirror_mode": {
    "name": "ipython",
    "version": 3
   },
   "file_extension": ".py",
   "mimetype": "text/x-python",
   "name": "python",
   "nbconvert_exporter": "python",
   "pygments_lexer": "ipython3",
   "version": "3.11.11"
  }
 },
 "nbformat": 4,
 "nbformat_minor": 2
}
